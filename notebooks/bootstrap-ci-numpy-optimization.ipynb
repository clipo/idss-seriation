{
 "cells": [
  {
   "cell_type": "code",
   "execution_count": 41,
   "metadata": {
    "collapsed": true
   },
   "outputs": [],
   "source": [
    "import numpy as np\n",
    "import scipy \n",
    "import scipy.stats\n"
   ]
  },
  {
   "cell_type": "code",
   "execution_count": 2,
   "metadata": {
    "collapsed": true
   },
   "outputs": [],
   "source": [
    "def calc_frequency_array(count_arr):\n",
    "    freq_arr = np.zeros(count_arr.shape)\n",
    "\n",
    "    for row_idx in range(0, count_arr.shape[0]):\n",
    "        count_row = count_arr[row_idx]\n",
    "\n",
    "        total = sum(count_row)\n",
    "        #log.debug(\"sum of freq in row %s: %s\",row_idx, total)\n",
    "        freq_arr[row_idx] = [float(n)/float(total) for n in count_row.tolist()]\n",
    "\n",
    "    return freq_arr"
   ]
  },
  {
   "cell_type": "code",
   "execution_count": 19,
   "metadata": {
    "collapsed": false
   },
   "outputs": [
    {
     "name": "stdout",
     "output_type": "stream",
     "text": [
      "assemblage to be bootstrapped: [0.1, 0.2, 0.5, 0.05, 0.15]\n",
      "initialized arrayOfStats: [[ 0.  0.  0.  0.  0.]\n",
      " [ 0.  0.  0.  0.  0.]\n",
      " [ 0.  0.  0.  0.  0.]\n",
      " [ 0.  0.  0.  0.  0.]\n",
      " [ 0.  0.  0.  0.  0.]\n",
      " [ 0.  0.  0.  0.  0.]\n",
      " [ 0.  0.  0.  0.  0.]\n",
      " [ 0.  0.  0.  0.  0.]\n",
      " [ 0.  0.  0.  0.  0.]\n",
      " [ 0.  0.  0.  0.  0.]]\n",
      "multinomial sample: [[20 38 60  8 24]\n",
      " [21 22 66  5 36]\n",
      " [14 28 81  6 21]\n",
      " [15 34 70 12 19]\n",
      " [15 31 63 12 29]\n",
      " [12 24 85 11 18]\n",
      " [16 32 69  7 26]\n",
      " [24 23 76  7 20]\n",
      " [17 29 70  8 26]\n",
      " [15 34 70  7 24]]\n",
      "full bootstrap sample: [[ 0.13333333  0.25333333  0.4         0.05333333  0.16      ]\n",
      " [ 0.14        0.14666667  0.44        0.03333333  0.24      ]\n",
      " [ 0.09333333  0.18666667  0.54        0.04        0.14      ]\n",
      " [ 0.1         0.22666667  0.46666667  0.08        0.12666667]\n",
      " [ 0.1         0.20666667  0.42        0.08        0.19333333]\n",
      " [ 0.08        0.16        0.56666667  0.07333333  0.12      ]\n",
      " [ 0.10666667  0.21333333  0.46        0.04666667  0.17333333]\n",
      " [ 0.16        0.15333333  0.50666667  0.04666667  0.13333333]\n",
      " [ 0.11333333  0.19333333  0.46666667  0.05333333  0.17333333]\n",
      " [ 0.1         0.22666667  0.46666667  0.04666667  0.16      ]]\n"
     ]
    }
   ],
   "source": [
    "assemblage = [0.1, 0.2, 0.5, 0.05, 0.15]\n",
    "\n",
    "print \"assemblage to be bootstrapped: %s\" % assemblage\n",
    "\n",
    "bootsize = 10\n",
    "assem_size = 150\n",
    "bootstrap_shape = (bootsize, len(assemblage))\n",
    "sampled = np.zeros(bootstrap_shape)\n",
    "\n",
    "print \"initialized arrayOfStats: %s\" % sampled\n",
    "                          \n",
    "sampled = np.random.multinomial(assem_size, assemblage, size=bootsize)\n",
    "\n",
    "print \"multinomial sample: %s\" % sampled\n",
    "\n",
    "bootstrap_sample = sampled / float(assem_size)\n",
    "\n",
    "print \"full bootstrap sample: %s\" % bootstrap_sample\n"
   ]
  },
  {
   "cell_type": "code",
   "execution_count": 21,
   "metadata": {
    "collapsed": false
   },
   "outputs": [
    {
     "data": {
      "text/plain": [
       "array([ 1.,  1.,  1.,  1.,  1.,  1.,  1.,  1.,  1.,  1.])"
      ]
     },
     "execution_count": 21,
     "metadata": {},
     "output_type": "execute_result"
    }
   ],
   "source": [
    "np.sum(bootstrap_sample, axis=1)"
   ]
  },
  {
   "cell_type": "code",
   "execution_count": 39,
   "metadata": {
    "collapsed": false
   },
   "outputs": [],
   "source": [
    "def confidence_interval(data, confidence=0.05):\n",
    "    a = 1.0 * np.array(data)\n",
    "    n = len(a)\n",
    "    m, se = np.mean(a), scipy.stats.sem(a)\n",
    "    h = se * sp.stats.t._ppf((1 + confidence) / 2., n - 1)\n",
    "    return m, m - h, m + h\n"
   ]
  },
  {
   "cell_type": "code",
   "execution_count": 25,
   "metadata": {
    "collapsed": false
   },
   "outputs": [
    {
     "data": {
      "text/plain": [
       "5"
      ]
     },
     "execution_count": 25,
     "metadata": {},
     "output_type": "execute_result"
    }
   ],
   "source": []
  },
  {
   "cell_type": "code",
   "execution_count": 43,
   "metadata": {
    "collapsed": false
   },
   "outputs": [
    {
     "name": "stdout",
     "output_type": "stream",
     "text": [
      "mean: 0.112666666667 lower: 0.112168466297 upper 0.113164867036\n",
      "mean: 0.196666666667 lower: 0.195946684754 upper 0.197386648579\n",
      "mean: 0.473333333333 lower: 0.472282383386 upper 0.47438428328\n",
      "mean: 0.0553333333333 lower: 0.0549939642109 upper 0.0556727024557\n",
      "mean: 0.162 lower: 0.161266458979 upper 0.162733541021\n"
     ]
    }
   ],
   "source": [
    "for col in xrange(0, bootstrap_sample.shape[1]):\n",
    "    col_data = bootstrap_sample[:,col]\n",
    "    mean, lower, upper = confidence_interval(col_data)\n",
    "    print \"mean: %s lower: %s upper %s\" % (mean, lower, upper)"
   ]
  },
  {
   "cell_type": "code",
   "execution_count": null,
   "metadata": {
    "collapsed": true
   },
   "outputs": [],
   "source": []
  }
 ],
 "metadata": {
  "kernelspec": {
   "display_name": "Python 2",
   "language": "python",
   "name": "python2"
  },
  "language_info": {
   "codemirror_mode": {
    "name": "ipython",
    "version": 2
   },
   "file_extension": ".py",
   "mimetype": "text/x-python",
   "name": "python",
   "nbconvert_exporter": "python",
   "pygments_lexer": "ipython2",
   "version": "2.7.10"
  }
 },
 "nbformat": 4,
 "nbformat_minor": 0
}
