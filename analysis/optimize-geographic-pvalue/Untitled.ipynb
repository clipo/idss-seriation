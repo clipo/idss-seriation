{
 "cells": [
  {
   "cell_type": "code",
   "execution_count": 8,
   "metadata": {
    "collapsed": true
   },
   "outputs": [],
   "source": [
    "import itertools\n",
    "import pickle\n",
    "from math import factorial"
   ]
  },
  {
   "cell_type": "code",
   "execution_count": 2,
   "metadata": {
    "collapsed": true
   },
   "outputs": [],
   "source": [
    "labels = pickle.load(open(\"labels.pickle\"\n",
    "                         ))"
   ]
  },
  {
   "cell_type": "code",
   "execution_count": 3,
   "metadata": {
    "collapsed": false
   },
   "outputs": [
    {
     "data": {
      "text/plain": [
       "5"
      ]
     },
     "execution_count": 3,
     "metadata": {},
     "output_type": "execute_result"
    }
   ],
   "source": [
    "len(labels)"
   ]
  },
  {
   "cell_type": "code",
   "execution_count": 7,
   "metadata": {
    "collapsed": false
   },
   "outputs": [
    {
     "data": {
      "text/plain": [
       "[('Assemblage-1', 'Assemblage-2'),\n",
       " ('Assemblage-1', 'Assemblage-3'),\n",
       " ('Assemblage-1', 'Assemblage-4'),\n",
       " ('Assemblage-1', 'Assemblage-5'),\n",
       " ('Assemblage-2', 'Assemblage-3'),\n",
       " ('Assemblage-2', 'Assemblage-4'),\n",
       " ('Assemblage-2', 'Assemblage-5'),\n",
       " ('Assemblage-3', 'Assemblage-4'),\n",
       " ('Assemblage-3', 'Assemblage-5'),\n",
       " ('Assemblage-4', 'Assemblage-5')]"
      ]
     },
     "execution_count": 7,
     "metadata": {},
     "output_type": "execute_result"
    }
   ],
   "source": [
    "list(itertools.combinations(labels, 2))"
   ]
  },
  {
   "cell_type": "code",
   "execution_count": 9,
   "metadata": {
    "collapsed": true
   },
   "outputs": [],
   "source": [
    "def num_combinations(n,r=2):\n",
    "    return factorial(n)/(factorial(r)*factorial(n-r))"
   ]
  },
  {
   "cell_type": "code",
   "execution_count": 10,
   "metadata": {
    "collapsed": false
   },
   "outputs": [
    {
     "data": {
      "text/plain": [
       "10"
      ]
     },
     "execution_count": 10,
     "metadata": {},
     "output_type": "execute_result"
    }
   ],
   "source": [
    "num_combinations(5\n",
    "                )"
   ]
  },
  {
   "cell_type": "code",
   "execution_count": 22,
   "metadata": {
    "collapsed": false
   },
   "outputs": [
    {
     "name": "stdout",
     "output_type": "stream",
     "text": [
      "5: 10\n",
      "10: 45\n",
      "15: 105\n",
      "20: 190\n",
      "25: 300\n",
      "30: 435\n",
      "35: 595\n",
      "40: 780\n",
      "45: 990\n",
      "50: 1225\n",
      "55: 1485\n",
      "60: 1770\n",
      "65: 2080\n",
      "70: 2415\n",
      "75: 2775\n",
      "80: 3160\n",
      "85: 3570\n",
      "90: 4005\n",
      "95: 4465\n",
      "100: 4950\n",
      "105: 5460\n",
      "110: 5995\n",
      "115: 6555\n",
      "120: 7140\n",
      "125: 7750\n",
      "130: 8385\n",
      "135: 9045\n",
      "140: 9730\n",
      "145: 10440\n",
      "150: 11175\n",
      "155: 11935\n",
      "160: 12720\n",
      "165: 13530\n",
      "170: 14365\n",
      "175: 15225\n",
      "180: 16110\n",
      "185: 17020\n",
      "190: 17955\n",
      "195: 18915\n",
      "200: 19900\n",
      "205: 20910\n",
      "210: 21945\n",
      "215: 23005\n",
      "220: 24090\n",
      "225: 25200\n",
      "230: 26335\n",
      "235: 27495\n",
      "240: 28680\n",
      "245: 29890\n",
      "250: 31125\n",
      "255: 32385\n",
      "260: 33670\n",
      "265: 34980\n",
      "270: 36315\n",
      "275: 37675\n",
      "280: 39060\n",
      "285: 40470\n",
      "290: 41905\n",
      "295: 43365\n",
      "300: 44850\n",
      "305: 46360\n",
      "310: 47895\n",
      "315: 49455\n",
      "320: 51040\n",
      "325: 52650\n",
      "330: 54285\n",
      "335: 55945\n",
      "340: 57630\n",
      "345: 59340\n",
      "350: 61075\n",
      "355: 62835\n",
      "360: 64620\n",
      "365: 66430\n",
      "370: 68265\n",
      "375: 70125\n",
      "380: 72010\n",
      "385: 73920\n",
      "390: 75855\n",
      "395: 77815\n",
      "400: 79800\n",
      "405: 81810\n",
      "410: 83845\n",
      "415: 85905\n",
      "420: 87990\n",
      "425: 90100\n",
      "430: 92235\n",
      "435: 94395\n",
      "440: 96580\n",
      "445: 98790\n",
      "450: 101025\n",
      "455: 103285\n",
      "460: 105570\n",
      "465: 107880\n",
      "470: 110215\n",
      "475: 112575\n",
      "480: 114960\n",
      "485: 117370\n",
      "490: 119805\n",
      "495: 122265\n",
      "500: 124750\n",
      "505: 127260\n",
      "510: 129795\n",
      "515: 132355\n",
      "520: 134940\n",
      "525: 137550\n",
      "530: 140185\n",
      "535: 142845\n",
      "540: 145530\n",
      "545: 148240\n",
      "550: 150975\n",
      "555: 153735\n",
      "560: 156520\n",
      "565: 159330\n",
      "570: 162165\n",
      "575: 165025\n",
      "580: 167910\n",
      "585: 170820\n",
      "590: 173755\n",
      "595: 176715\n",
      "600: 179700\n",
      "605: 182710\n",
      "610: 185745\n",
      "615: 188805\n",
      "620: 191890\n",
      "625: 195000\n",
      "630: 198135\n",
      "635: 201295\n",
      "640: 204480\n",
      "645: 207690\n",
      "650: 210925\n",
      "655: 214185\n",
      "660: 217470\n",
      "665: 220780\n",
      "670: 224115\n",
      "675: 227475\n",
      "680: 230860\n",
      "685: 234270\n",
      "690: 237705\n",
      "695: 241165\n",
      "700: 244650\n",
      "705: 248160\n",
      "710: 251695\n",
      "715: 255255\n",
      "720: 258840\n",
      "725: 262450\n",
      "730: 266085\n",
      "735: 269745\n",
      "740: 273430\n",
      "745: 277140\n",
      "750: 280875\n",
      "755: 284635\n",
      "760: 288420\n",
      "765: 292230\n",
      "770: 296065\n",
      "775: 299925\n",
      "780: 303810\n",
      "785: 307720\n",
      "790: 311655\n",
      "795: 315615\n",
      "800: 319600\n",
      "805: 323610\n",
      "810: 327645\n",
      "815: 331705\n",
      "820: 335790\n",
      "825: 339900\n",
      "830: 344035\n",
      "835: 348195\n",
      "840: 352380\n",
      "845: 356590\n",
      "850: 360825\n",
      "855: 365085\n",
      "860: 369370\n",
      "865: 373680\n",
      "870: 378015\n",
      "875: 382375\n",
      "880: 386760\n",
      "885: 391170\n",
      "890: 395605\n",
      "895: 400065\n",
      "900: 404550\n",
      "905: 409060\n",
      "910: 413595\n",
      "915: 418155\n",
      "920: 422740\n",
      "925: 427350\n",
      "930: 431985\n",
      "935: 436645\n",
      "940: 441330\n",
      "945: 446040\n",
      "950: 450775\n",
      "955: 455535\n",
      "960: 460320\n",
      "965: 465130\n",
      "970: 469965\n",
      "975: 474825\n",
      "980: 479710\n",
      "985: 484620\n",
      "990: 489555\n",
      "995: 494515\n"
     ]
    }
   ],
   "source": [
    "for i in range(5,1000,5):\n",
    "    print \"%s: %s\" % (i, num_combinations(i))"
   ]
  },
  {
   "cell_type": "code",
   "execution_count": 18,
   "metadata": {
    "collapsed": true
   },
   "outputs": [],
   "source": [
    "l = range(0, 190)"
   ]
  },
  {
   "cell_type": "code",
   "execution_count": 19,
   "metadata": {
    "collapsed": false
   },
   "outputs": [
    {
     "data": {
      "text/plain": [
       "190"
      ]
     },
     "execution_count": 19,
     "metadata": {},
     "output_type": "execute_result"
    }
   ],
   "source": [
    "len(l)"
   ]
  },
  {
   "cell_type": "code",
   "execution_count": 21,
   "metadata": {
    "collapsed": false
   },
   "outputs": [
    {
     "data": {
      "text/plain": [
       "17955"
      ]
     },
     "execution_count": 21,
     "metadata": {},
     "output_type": "execute_result"
    }
   ],
   "source": [
    "len(list(itertools.combinations(l,2)))"
   ]
  },
  {
   "cell_type": "code",
   "execution_count": null,
   "metadata": {
    "collapsed": true
   },
   "outputs": [],
   "source": []
  }
 ],
 "metadata": {
  "kernelspec": {
   "display_name": "Python 2",
   "language": "python",
   "name": "python2"
  },
  "language_info": {
   "codemirror_mode": {
    "name": "ipython",
    "version": 2
   },
   "file_extension": ".py",
   "mimetype": "text/x-python",
   "name": "python",
   "nbconvert_exporter": "python",
   "pygments_lexer": "ipython2",
   "version": "2.7.10"
  }
 },
 "nbformat": 4,
 "nbformat_minor": 0
}
